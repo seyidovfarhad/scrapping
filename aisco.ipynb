{
  "nbformat": 4,
  "nbformat_minor": 0,
  "metadata": {
    "colab": {
      "provenance": []
    },
    "kernelspec": {
      "name": "python3",
      "display_name": "Python 3"
    },
    "language_info": {
      "name": "python"
    }
  },
  "cells": [
    {
      "cell_type": "code",
      "source": [
        "!pip install dateparser"
      ],
      "metadata": {
        "colab": {
          "base_uri": "https://localhost:8080/"
        },
        "id": "-RPCOA4dP4pU",
        "outputId": "4098ea4d-f60b-455f-efa6-9135b912682a"
      },
      "execution_count": null,
      "outputs": [
        {
          "output_type": "stream",
          "name": "stdout",
          "text": [
            "Looking in indexes: https://pypi.org/simple, https://us-python.pkg.dev/colab-wheels/public/simple/\n",
            "Collecting dateparser\n",
            "  Downloading dateparser-1.1.7-py2.py3-none-any.whl (293 kB)\n",
            "\u001b[2K     \u001b[90m━━━━━━━━━━━━━━━━━━━━━━━━━━━━━━━━━━━━━━━\u001b[0m \u001b[32m293.4/293.4 KB\u001b[0m \u001b[31m4.5 MB/s\u001b[0m eta \u001b[36m0:00:00\u001b[0m\n",
            "\u001b[?25hRequirement already satisfied: tzlocal in /usr/local/lib/python3.9/dist-packages (from dateparser) (4.2)\n",
            "Requirement already satisfied: pytz in /usr/local/lib/python3.9/dist-packages (from dateparser) (2022.7.1)\n",
            "Requirement already satisfied: regex!=2019.02.19,!=2021.8.27 in /usr/local/lib/python3.9/dist-packages (from dateparser) (2022.6.2)\n",
            "Requirement already satisfied: python-dateutil in /usr/local/lib/python3.9/dist-packages (from dateparser) (2.8.2)\n",
            "Requirement already satisfied: six>=1.5 in /usr/local/lib/python3.9/dist-packages (from python-dateutil->dateparser) (1.15.0)\n",
            "Requirement already satisfied: pytz-deprecation-shim in /usr/local/lib/python3.9/dist-packages (from tzlocal->dateparser) (0.1.0.post0)\n",
            "Requirement already satisfied: tzdata in /usr/local/lib/python3.9/dist-packages (from pytz-deprecation-shim->tzlocal->dateparser) (2022.7)\n",
            "Installing collected packages: dateparser\n",
            "Successfully installed dateparser-1.1.7\n"
          ]
        }
      ]
    },
    {
      "cell_type": "code",
      "execution_count": null,
      "metadata": {
        "id": "bmKZAoUhlnb0"
      },
      "outputs": [],
      "source": [
        "import pandas as pd\n",
        "import re, datetime\n",
        "import dateparser"
      ]
    },
    {
      "cell_type": "code",
      "source": [
        "# datanı oxuma\n",
        "data=pd.read_csv('/content/Data (1).csv',header=None)\n",
        "data"
      ],
      "metadata": {
        "id": "LIxHD1KZl0N1",
        "colab": {
          "base_uri": "https://localhost:8080/",
          "height": 423
        },
        "outputId": "bd3809d9-59e0-4bdf-cacc-1a2ad47c9d3a"
      },
      "execution_count": null,
      "outputs": [
        {
          "output_type": "execute_result",
          "data": {
            "text/plain": [
              "                                              0\n",
              "0         3 PM  Mon 24th-Mar-2014___0.384 kwh  \n",
              "1                5AM  15-Aug-2014___1.201  kwh \n",
              "2          __8PM Thu 20-Mar-2014____1.523 kwh  \n",
              "3               6PM  23rd-Apr-2014___0.424  kwh\n",
              "4     _1AM  Friday 19th-Dec-2014___0.209  kwh  \n",
              "...                                         ...\n",
              "8755         _1AM  Fri 07th-Nov-2014_0.084 kwh \n",
              "8756                _6AM 20-May-2014__1.027 kwh\n",
              "8757   __2 AM  Tuesday 8th-Apr-2014___0.052 kwh\n",
              "8758            9 PM 27th-Jan-2014_1.428  kwh  \n",
              "8759          _12 PM 25th-Aug-2014_0.528  kwh  \n",
              "\n",
              "[8760 rows x 1 columns]"
            ],
            "text/html": [
              "\n",
              "  <div id=\"df-392a8122-c6f8-457e-8306-4f481eacbfd9\">\n",
              "    <div class=\"colab-df-container\">\n",
              "      <div>\n",
              "<style scoped>\n",
              "    .dataframe tbody tr th:only-of-type {\n",
              "        vertical-align: middle;\n",
              "    }\n",
              "\n",
              "    .dataframe tbody tr th {\n",
              "        vertical-align: top;\n",
              "    }\n",
              "\n",
              "    .dataframe thead th {\n",
              "        text-align: right;\n",
              "    }\n",
              "</style>\n",
              "<table border=\"1\" class=\"dataframe\">\n",
              "  <thead>\n",
              "    <tr style=\"text-align: right;\">\n",
              "      <th></th>\n",
              "      <th>0</th>\n",
              "    </tr>\n",
              "  </thead>\n",
              "  <tbody>\n",
              "    <tr>\n",
              "      <th>0</th>\n",
              "      <td>3 PM  Mon 24th-Mar-2014___0.384 kwh</td>\n",
              "    </tr>\n",
              "    <tr>\n",
              "      <th>1</th>\n",
              "      <td>5AM  15-Aug-2014___1.201  kwh</td>\n",
              "    </tr>\n",
              "    <tr>\n",
              "      <th>2</th>\n",
              "      <td>__8PM Thu 20-Mar-2014____1.523 kwh</td>\n",
              "    </tr>\n",
              "    <tr>\n",
              "      <th>3</th>\n",
              "      <td>6PM  23rd-Apr-2014___0.424  kwh</td>\n",
              "    </tr>\n",
              "    <tr>\n",
              "      <th>4</th>\n",
              "      <td>_1AM  Friday 19th-Dec-2014___0.209  kwh</td>\n",
              "    </tr>\n",
              "    <tr>\n",
              "      <th>...</th>\n",
              "      <td>...</td>\n",
              "    </tr>\n",
              "    <tr>\n",
              "      <th>8755</th>\n",
              "      <td>_1AM  Fri 07th-Nov-2014_0.084 kwh</td>\n",
              "    </tr>\n",
              "    <tr>\n",
              "      <th>8756</th>\n",
              "      <td>_6AM 20-May-2014__1.027 kwh</td>\n",
              "    </tr>\n",
              "    <tr>\n",
              "      <th>8757</th>\n",
              "      <td>__2 AM  Tuesday 8th-Apr-2014___0.052 kwh</td>\n",
              "    </tr>\n",
              "    <tr>\n",
              "      <th>8758</th>\n",
              "      <td>9 PM 27th-Jan-2014_1.428  kwh</td>\n",
              "    </tr>\n",
              "    <tr>\n",
              "      <th>8759</th>\n",
              "      <td>_12 PM 25th-Aug-2014_0.528  kwh</td>\n",
              "    </tr>\n",
              "  </tbody>\n",
              "</table>\n",
              "<p>8760 rows × 1 columns</p>\n",
              "</div>\n",
              "      <button class=\"colab-df-convert\" onclick=\"convertToInteractive('df-392a8122-c6f8-457e-8306-4f481eacbfd9')\"\n",
              "              title=\"Convert this dataframe to an interactive table.\"\n",
              "              style=\"display:none;\">\n",
              "        \n",
              "  <svg xmlns=\"http://www.w3.org/2000/svg\" height=\"24px\"viewBox=\"0 0 24 24\"\n",
              "       width=\"24px\">\n",
              "    <path d=\"M0 0h24v24H0V0z\" fill=\"none\"/>\n",
              "    <path d=\"M18.56 5.44l.94 2.06.94-2.06 2.06-.94-2.06-.94-.94-2.06-.94 2.06-2.06.94zm-11 1L8.5 8.5l.94-2.06 2.06-.94-2.06-.94L8.5 2.5l-.94 2.06-2.06.94zm10 10l.94 2.06.94-2.06 2.06-.94-2.06-.94-.94-2.06-.94 2.06-2.06.94z\"/><path d=\"M17.41 7.96l-1.37-1.37c-.4-.4-.92-.59-1.43-.59-.52 0-1.04.2-1.43.59L10.3 9.45l-7.72 7.72c-.78.78-.78 2.05 0 2.83L4 21.41c.39.39.9.59 1.41.59.51 0 1.02-.2 1.41-.59l7.78-7.78 2.81-2.81c.8-.78.8-2.07 0-2.86zM5.41 20L4 18.59l7.72-7.72 1.47 1.35L5.41 20z\"/>\n",
              "  </svg>\n",
              "      </button>\n",
              "      \n",
              "  <style>\n",
              "    .colab-df-container {\n",
              "      display:flex;\n",
              "      flex-wrap:wrap;\n",
              "      gap: 12px;\n",
              "    }\n",
              "\n",
              "    .colab-df-convert {\n",
              "      background-color: #E8F0FE;\n",
              "      border: none;\n",
              "      border-radius: 50%;\n",
              "      cursor: pointer;\n",
              "      display: none;\n",
              "      fill: #1967D2;\n",
              "      height: 32px;\n",
              "      padding: 0 0 0 0;\n",
              "      width: 32px;\n",
              "    }\n",
              "\n",
              "    .colab-df-convert:hover {\n",
              "      background-color: #E2EBFA;\n",
              "      box-shadow: 0px 1px 2px rgba(60, 64, 67, 0.3), 0px 1px 3px 1px rgba(60, 64, 67, 0.15);\n",
              "      fill: #174EA6;\n",
              "    }\n",
              "\n",
              "    [theme=dark] .colab-df-convert {\n",
              "      background-color: #3B4455;\n",
              "      fill: #D2E3FC;\n",
              "    }\n",
              "\n",
              "    [theme=dark] .colab-df-convert:hover {\n",
              "      background-color: #434B5C;\n",
              "      box-shadow: 0px 1px 3px 1px rgba(0, 0, 0, 0.15);\n",
              "      filter: drop-shadow(0px 1px 2px rgba(0, 0, 0, 0.3));\n",
              "      fill: #FFFFFF;\n",
              "    }\n",
              "  </style>\n",
              "\n",
              "      <script>\n",
              "        const buttonEl =\n",
              "          document.querySelector('#df-392a8122-c6f8-457e-8306-4f481eacbfd9 button.colab-df-convert');\n",
              "        buttonEl.style.display =\n",
              "          google.colab.kernel.accessAllowed ? 'block' : 'none';\n",
              "\n",
              "        async function convertToInteractive(key) {\n",
              "          const element = document.querySelector('#df-392a8122-c6f8-457e-8306-4f481eacbfd9');\n",
              "          const dataTable =\n",
              "            await google.colab.kernel.invokeFunction('convertToInteractive',\n",
              "                                                     [key], {});\n",
              "          if (!dataTable) return;\n",
              "\n",
              "          const docLinkHtml = 'Like what you see? Visit the ' +\n",
              "            '<a target=\"_blank\" href=https://colab.research.google.com/notebooks/data_table.ipynb>data table notebook</a>'\n",
              "            + ' to learn more about interactive tables.';\n",
              "          element.innerHTML = '';\n",
              "          dataTable['output_type'] = 'display_data';\n",
              "          await google.colab.output.renderOutput(dataTable, element);\n",
              "          const docLink = document.createElement('div');\n",
              "          docLink.innerHTML = docLinkHtml;\n",
              "          element.appendChild(docLink);\n",
              "        }\n",
              "      </script>\n",
              "    </div>\n",
              "  </div>\n",
              "  "
            ]
          },
          "metadata": {},
          "execution_count": 139
        }
      ]
    },
    {
      "cell_type": "code",
      "source": [
        "# tarixlər və saatlar olacaq boş panellər\n",
        "dates = []\n",
        "hours = []\n"
      ],
      "metadata": {
        "id": "5nA7P04l26J3"
      },
      "execution_count": null,
      "outputs": []
    },
    {
      "cell_type": "code",
      "source": [
        "# xam datadan tarixləri və saatları çıxarma\n",
        "for i in range(len(data)):\n",
        "  string = str(data.iloc[i][0])\n",
        "  nums = re.findall(r'\\d+', string)\n",
        "  if nums[0]==nums[1]:\n",
        "    string=string[string.index(nums[1])+1:]\n",
        "    pattern = str(nums[1])+'(.*?)'+str(nums[2])\n",
        "    parsed_date = re.search(pattern, string).group(0)\n",
        "    dates.append(parsed_date)\n",
        "    hours.append(nums[0])\n",
        "  else:\n",
        "    pattern = str(nums[1])+'(.*?)'+str(nums[2])\n",
        "    parsed_date = re.search(pattern, string).group(0)\n",
        "    dates.append(parsed_date)\n",
        "    hours.append(nums[0])"
      ],
      "metadata": {
        "id": "vvEDx4Za2-9Q"
      },
      "execution_count": null,
      "outputs": []
    },
    {
      "cell_type": "code",
      "source": [
        "# tarix və saat panelini əlavə olunması\n",
        "data['dates']=dates\n",
        "data['hours']=hours\n"
      ],
      "metadata": {
        "id": "JgqWnNzR3BQj"
      },
      "execution_count": null,
      "outputs": []
    },
    {
      "cell_type": "code",
      "source": [
        "# kilovat/saat panelinin boş massivi\n",
        "KwHs=[]\n",
        "# kilovat/saat saylarının doldurulması\n",
        "for n in range(len(data)):\n",
        "  pattern = r'2014(.*?)kwh'\n",
        "  parsed_date = re.search(pattern, str(data.iloc[n][0])).group(1)\n",
        "  KwHs.append(float(re.findall(r'\\d+', parsed_date)[0]+'.'+re.findall(r'\\d+', parsed_date)[1]))\n"
      ],
      "metadata": {
        "id": "fPocZ6tS3DLM"
      },
      "execution_count": null,
      "outputs": []
    },
    {
      "cell_type": "code",
      "source": [
        "# kilovat/saat panelinin yaradılması\n",
        "data['KwHs']=KwHs\n"
      ],
      "metadata": {
        "id": "6VmvrIdq3Gg1"
      },
      "execution_count": null,
      "outputs": []
    },
    {
      "cell_type": "code",
      "source": [
        "# tarixlərin yeni formata keçirilməsi\n",
        "dates = []\n",
        "for i in range(len(data['dates'])):\n",
        "  dates.append(dateparser.parse(data['dates'][i]))\n",
        "\n",
        "data['dates']=dates\n",
        "\n",
        "# birinci sualın cavabı\n",
        "data['KwHs'].mean()\n"
      ],
      "metadata": {
        "colab": {
          "base_uri": "https://localhost:8080/"
        },
        "id": "9dcvtDOy3IO8",
        "outputId": "634f2dbe-599a-4e76-923c-a6f7dca4d590"
      },
      "execution_count": null,
      "outputs": [
        {
          "output_type": "execute_result",
          "data": {
            "text/plain": [
              "0.7818779680365298"
            ]
          },
          "metadata": {},
          "execution_count": 145
        }
      ]
    },
    {
      "cell_type": "code",
      "source": [
        "# tarixlərdən aylar götürülərək yeni xananın yaradılması\n",
        "data['month'] = data['dates'].dt.month\n",
        "\n",
        "# ikinci sualın cavabı\n",
        "data[data['month']==2]['KwHs'].mean()"
      ],
      "metadata": {
        "colab": {
          "base_uri": "https://localhost:8080/"
        },
        "id": "K0HsFq3X3LSR",
        "outputId": "889d3efc-fbd2-44cc-d006-fca89ab7afb5"
      },
      "execution_count": null,
      "outputs": [
        {
          "output_type": "execute_result",
          "data": {
            "text/plain": [
              "0.8329151785714286"
            ]
          },
          "metadata": {},
          "execution_count": 146
        }
      ]
    },
    {
      "cell_type": "code",
      "source": [
        "# tarixlərdən həftənin günləri xanasının yaradılması\n",
        "\n",
        "data['days_of_week'] = data['dates'].dt.day_name()\n",
        "\n",
        "# üçüncü sualın cavabı\n",
        "\n",
        "for i in data['days_of_week'].unique():\n",
        "  print(i, '--',data[data['days_of_week']==i]['KwHs'].mean())\n"
      ],
      "metadata": {
        "colab": {
          "base_uri": "https://localhost:8080/"
        },
        "id": "wWjALDez3xB4",
        "outputId": "9d4937e0-7904-4822-c9b2-6009e9609057"
      },
      "execution_count": null,
      "outputs": [
        {
          "output_type": "stream",
          "name": "stdout",
          "text": [
            "Monday -- 0.7259447115384615\n",
            "Friday -- 0.7537443910256411\n",
            "Thursday -- 0.7454575320512821\n",
            "Wednesday -- 0.7339426100628931\n",
            "Tuesday -- 0.7260576923076923\n",
            "Saturday -- 0.890763621794872\n",
            "Sunday -- 0.8981570512820511\n"
          ]
        }
      ]
    },
    {
      "cell_type": "code",
      "source": [
        "# saatların AM və ya PM olmasını təyin etmə\n",
        "am_pm = ['PM'if len(re.findall('PM', data.iloc[i][0]))==1 else 'AM' for i in range(len(data))]\n",
        "data['AM\\PM'] = am_pm"
      ],
      "metadata": {
        "id": "StjvdqSTe7U5"
      },
      "execution_count": null,
      "outputs": []
    },
    {
      "cell_type": "code",
      "source": [
        "# AM və ya PM sütununun yaradılması\n",
        "data['hours'] = data['hours']+':00 '+ data['AM\\PM']"
      ],
      "metadata": {
        "id": "b8cM0FY0g23v"
      },
      "execution_count": null,
      "outputs": []
    },
    {
      "cell_type": "code",
      "source": [
        "# AM və ya PM formatında asılı olaraq saatların 24 saatlıq formata keçirilməsi\n",
        "data['hours'] = pd.to_datetime(data['hours']).dt.strftime('%H:%M:%S')"
      ],
      "metadata": {
        "id": "1UDdFJluh2SZ"
      },
      "execution_count": null,
      "outputs": []
    },
    {
      "cell_type": "code",
      "source": [
        "# tarixlərin yenidən təmizlənməsi\n",
        "data['dates'] = data['dates'].dt.date"
      ],
      "metadata": {
        "id": "zbLkLxcElMoY"
      },
      "execution_count": null,
      "outputs": []
    },
    {
      "cell_type": "code",
      "source": [
        "# 4 saatlıq fasiləsiz iş rejimində istifadə olunan maksimum enerji miqdarı\n",
        "max = 0\n",
        "for i in range(len(data)):\n",
        "  if max < data.sort_values(by=['dates', 'hours'])['KwHs'].iloc[i:i+4].sum():\n",
        "    max = data.sort_values(by=['dates', 'hours'])['KwHs'].iloc[i:i+4].sum()\n",
        "print(max)"
      ],
      "metadata": {
        "colab": {
          "base_uri": "https://localhost:8080/"
        },
        "id": "YmAY5hi_35hi",
        "outputId": "7d51b480-5ecd-4072-f310-2d1d1d40a13d"
      },
      "execution_count": null,
      "outputs": [
        {
          "output_type": "stream",
          "name": "stdout",
          "text": [
            "17.237000000000002\n"
          ]
        }
      ]
    },
    {
      "cell_type": "code",
      "source": [
        "data"
      ],
      "metadata": {
        "colab": {
          "base_uri": "https://localhost:8080/",
          "height": 423
        },
        "id": "7HBbRaAKrGSs",
        "outputId": "70f829f7-9141-422f-fce3-93ccff231a77"
      },
      "execution_count": null,
      "outputs": [
        {
          "output_type": "execute_result",
          "data": {
            "text/plain": [
              "                                              0       dates     hours   KwHs  \\\n",
              "0         3 PM  Mon 24th-Mar-2014___0.384 kwh    2014-03-24  15:00:00  0.384   \n",
              "1                5AM  15-Aug-2014___1.201  kwh   2014-08-15  05:00:00  1.201   \n",
              "2          __8PM Thu 20-Mar-2014____1.523 kwh    2014-03-20  20:00:00  1.523   \n",
              "3               6PM  23rd-Apr-2014___0.424  kwh  2014-04-23  18:00:00  0.424   \n",
              "4     _1AM  Friday 19th-Dec-2014___0.209  kwh    2014-12-19  01:00:00  0.209   \n",
              "...                                         ...         ...       ...    ...   \n",
              "8755         _1AM  Fri 07th-Nov-2014_0.084 kwh   2014-11-07  01:00:00  0.084   \n",
              "8756                _6AM 20-May-2014__1.027 kwh  2014-05-20  06:00:00  1.027   \n",
              "8757   __2 AM  Tuesday 8th-Apr-2014___0.052 kwh  2014-04-08  02:00:00  0.052   \n",
              "8758            9 PM 27th-Jan-2014_1.428  kwh    2014-01-27  21:00:00  1.428   \n",
              "8759          _12 PM 25th-Aug-2014_0.528  kwh    2014-08-25  12:00:00  0.528   \n",
              "\n",
              "      month days_of_week AM\\PM  \n",
              "0         3       Monday    PM  \n",
              "1         8       Friday    AM  \n",
              "2         3     Thursday    PM  \n",
              "3         4    Wednesday    PM  \n",
              "4        12       Friday    AM  \n",
              "...     ...          ...   ...  \n",
              "8755     11       Friday    AM  \n",
              "8756      5      Tuesday    AM  \n",
              "8757      4      Tuesday    AM  \n",
              "8758      1       Monday    PM  \n",
              "8759      8       Monday    PM  \n",
              "\n",
              "[8760 rows x 7 columns]"
            ],
            "text/html": [
              "\n",
              "  <div id=\"df-a499b85e-2eb5-46d0-b740-260a98553d1f\">\n",
              "    <div class=\"colab-df-container\">\n",
              "      <div>\n",
              "<style scoped>\n",
              "    .dataframe tbody tr th:only-of-type {\n",
              "        vertical-align: middle;\n",
              "    }\n",
              "\n",
              "    .dataframe tbody tr th {\n",
              "        vertical-align: top;\n",
              "    }\n",
              "\n",
              "    .dataframe thead th {\n",
              "        text-align: right;\n",
              "    }\n",
              "</style>\n",
              "<table border=\"1\" class=\"dataframe\">\n",
              "  <thead>\n",
              "    <tr style=\"text-align: right;\">\n",
              "      <th></th>\n",
              "      <th>0</th>\n",
              "      <th>dates</th>\n",
              "      <th>hours</th>\n",
              "      <th>KwHs</th>\n",
              "      <th>month</th>\n",
              "      <th>days_of_week</th>\n",
              "      <th>AM\\PM</th>\n",
              "    </tr>\n",
              "  </thead>\n",
              "  <tbody>\n",
              "    <tr>\n",
              "      <th>0</th>\n",
              "      <td>3 PM  Mon 24th-Mar-2014___0.384 kwh</td>\n",
              "      <td>2014-03-24</td>\n",
              "      <td>15:00:00</td>\n",
              "      <td>0.384</td>\n",
              "      <td>3</td>\n",
              "      <td>Monday</td>\n",
              "      <td>PM</td>\n",
              "    </tr>\n",
              "    <tr>\n",
              "      <th>1</th>\n",
              "      <td>5AM  15-Aug-2014___1.201  kwh</td>\n",
              "      <td>2014-08-15</td>\n",
              "      <td>05:00:00</td>\n",
              "      <td>1.201</td>\n",
              "      <td>8</td>\n",
              "      <td>Friday</td>\n",
              "      <td>AM</td>\n",
              "    </tr>\n",
              "    <tr>\n",
              "      <th>2</th>\n",
              "      <td>__8PM Thu 20-Mar-2014____1.523 kwh</td>\n",
              "      <td>2014-03-20</td>\n",
              "      <td>20:00:00</td>\n",
              "      <td>1.523</td>\n",
              "      <td>3</td>\n",
              "      <td>Thursday</td>\n",
              "      <td>PM</td>\n",
              "    </tr>\n",
              "    <tr>\n",
              "      <th>3</th>\n",
              "      <td>6PM  23rd-Apr-2014___0.424  kwh</td>\n",
              "      <td>2014-04-23</td>\n",
              "      <td>18:00:00</td>\n",
              "      <td>0.424</td>\n",
              "      <td>4</td>\n",
              "      <td>Wednesday</td>\n",
              "      <td>PM</td>\n",
              "    </tr>\n",
              "    <tr>\n",
              "      <th>4</th>\n",
              "      <td>_1AM  Friday 19th-Dec-2014___0.209  kwh</td>\n",
              "      <td>2014-12-19</td>\n",
              "      <td>01:00:00</td>\n",
              "      <td>0.209</td>\n",
              "      <td>12</td>\n",
              "      <td>Friday</td>\n",
              "      <td>AM</td>\n",
              "    </tr>\n",
              "    <tr>\n",
              "      <th>...</th>\n",
              "      <td>...</td>\n",
              "      <td>...</td>\n",
              "      <td>...</td>\n",
              "      <td>...</td>\n",
              "      <td>...</td>\n",
              "      <td>...</td>\n",
              "      <td>...</td>\n",
              "    </tr>\n",
              "    <tr>\n",
              "      <th>8755</th>\n",
              "      <td>_1AM  Fri 07th-Nov-2014_0.084 kwh</td>\n",
              "      <td>2014-11-07</td>\n",
              "      <td>01:00:00</td>\n",
              "      <td>0.084</td>\n",
              "      <td>11</td>\n",
              "      <td>Friday</td>\n",
              "      <td>AM</td>\n",
              "    </tr>\n",
              "    <tr>\n",
              "      <th>8756</th>\n",
              "      <td>_6AM 20-May-2014__1.027 kwh</td>\n",
              "      <td>2014-05-20</td>\n",
              "      <td>06:00:00</td>\n",
              "      <td>1.027</td>\n",
              "      <td>5</td>\n",
              "      <td>Tuesday</td>\n",
              "      <td>AM</td>\n",
              "    </tr>\n",
              "    <tr>\n",
              "      <th>8757</th>\n",
              "      <td>__2 AM  Tuesday 8th-Apr-2014___0.052 kwh</td>\n",
              "      <td>2014-04-08</td>\n",
              "      <td>02:00:00</td>\n",
              "      <td>0.052</td>\n",
              "      <td>4</td>\n",
              "      <td>Tuesday</td>\n",
              "      <td>AM</td>\n",
              "    </tr>\n",
              "    <tr>\n",
              "      <th>8758</th>\n",
              "      <td>9 PM 27th-Jan-2014_1.428  kwh</td>\n",
              "      <td>2014-01-27</td>\n",
              "      <td>21:00:00</td>\n",
              "      <td>1.428</td>\n",
              "      <td>1</td>\n",
              "      <td>Monday</td>\n",
              "      <td>PM</td>\n",
              "    </tr>\n",
              "    <tr>\n",
              "      <th>8759</th>\n",
              "      <td>_12 PM 25th-Aug-2014_0.528  kwh</td>\n",
              "      <td>2014-08-25</td>\n",
              "      <td>12:00:00</td>\n",
              "      <td>0.528</td>\n",
              "      <td>8</td>\n",
              "      <td>Monday</td>\n",
              "      <td>PM</td>\n",
              "    </tr>\n",
              "  </tbody>\n",
              "</table>\n",
              "<p>8760 rows × 7 columns</p>\n",
              "</div>\n",
              "      <button class=\"colab-df-convert\" onclick=\"convertToInteractive('df-a499b85e-2eb5-46d0-b740-260a98553d1f')\"\n",
              "              title=\"Convert this dataframe to an interactive table.\"\n",
              "              style=\"display:none;\">\n",
              "        \n",
              "  <svg xmlns=\"http://www.w3.org/2000/svg\" height=\"24px\"viewBox=\"0 0 24 24\"\n",
              "       width=\"24px\">\n",
              "    <path d=\"M0 0h24v24H0V0z\" fill=\"none\"/>\n",
              "    <path d=\"M18.56 5.44l.94 2.06.94-2.06 2.06-.94-2.06-.94-.94-2.06-.94 2.06-2.06.94zm-11 1L8.5 8.5l.94-2.06 2.06-.94-2.06-.94L8.5 2.5l-.94 2.06-2.06.94zm10 10l.94 2.06.94-2.06 2.06-.94-2.06-.94-.94-2.06-.94 2.06-2.06.94z\"/><path d=\"M17.41 7.96l-1.37-1.37c-.4-.4-.92-.59-1.43-.59-.52 0-1.04.2-1.43.59L10.3 9.45l-7.72 7.72c-.78.78-.78 2.05 0 2.83L4 21.41c.39.39.9.59 1.41.59.51 0 1.02-.2 1.41-.59l7.78-7.78 2.81-2.81c.8-.78.8-2.07 0-2.86zM5.41 20L4 18.59l7.72-7.72 1.47 1.35L5.41 20z\"/>\n",
              "  </svg>\n",
              "      </button>\n",
              "      \n",
              "  <style>\n",
              "    .colab-df-container {\n",
              "      display:flex;\n",
              "      flex-wrap:wrap;\n",
              "      gap: 12px;\n",
              "    }\n",
              "\n",
              "    .colab-df-convert {\n",
              "      background-color: #E8F0FE;\n",
              "      border: none;\n",
              "      border-radius: 50%;\n",
              "      cursor: pointer;\n",
              "      display: none;\n",
              "      fill: #1967D2;\n",
              "      height: 32px;\n",
              "      padding: 0 0 0 0;\n",
              "      width: 32px;\n",
              "    }\n",
              "\n",
              "    .colab-df-convert:hover {\n",
              "      background-color: #E2EBFA;\n",
              "      box-shadow: 0px 1px 2px rgba(60, 64, 67, 0.3), 0px 1px 3px 1px rgba(60, 64, 67, 0.15);\n",
              "      fill: #174EA6;\n",
              "    }\n",
              "\n",
              "    [theme=dark] .colab-df-convert {\n",
              "      background-color: #3B4455;\n",
              "      fill: #D2E3FC;\n",
              "    }\n",
              "\n",
              "    [theme=dark] .colab-df-convert:hover {\n",
              "      background-color: #434B5C;\n",
              "      box-shadow: 0px 1px 3px 1px rgba(0, 0, 0, 0.15);\n",
              "      filter: drop-shadow(0px 1px 2px rgba(0, 0, 0, 0.3));\n",
              "      fill: #FFFFFF;\n",
              "    }\n",
              "  </style>\n",
              "\n",
              "      <script>\n",
              "        const buttonEl =\n",
              "          document.querySelector('#df-a499b85e-2eb5-46d0-b740-260a98553d1f button.colab-df-convert');\n",
              "        buttonEl.style.display =\n",
              "          google.colab.kernel.accessAllowed ? 'block' : 'none';\n",
              "\n",
              "        async function convertToInteractive(key) {\n",
              "          const element = document.querySelector('#df-a499b85e-2eb5-46d0-b740-260a98553d1f');\n",
              "          const dataTable =\n",
              "            await google.colab.kernel.invokeFunction('convertToInteractive',\n",
              "                                                     [key], {});\n",
              "          if (!dataTable) return;\n",
              "\n",
              "          const docLinkHtml = 'Like what you see? Visit the ' +\n",
              "            '<a target=\"_blank\" href=https://colab.research.google.com/notebooks/data_table.ipynb>data table notebook</a>'\n",
              "            + ' to learn more about interactive tables.';\n",
              "          element.innerHTML = '';\n",
              "          dataTable['output_type'] = 'display_data';\n",
              "          await google.colab.output.renderOutput(dataTable, element);\n",
              "          const docLink = document.createElement('div');\n",
              "          docLink.innerHTML = docLinkHtml;\n",
              "          element.appendChild(docLink);\n",
              "        }\n",
              "      </script>\n",
              "    </div>\n",
              "  </div>\n",
              "  "
            ]
          },
          "metadata": {},
          "execution_count": 182
        }
      ]
    },
    {
      "cell_type": "code",
      "source": [
        "data['dates'] = pd.to_datetime(data['dates'])\n",
        "\n",
        "data.to_excel('AISCO_cleaned_data.xlsx')\n"
      ],
      "metadata": {
        "id": "N5AfQtg8rG0z"
      },
      "execution_count": null,
      "outputs": []
    },
    {
      "cell_type": "code",
      "source": [],
      "metadata": {
        "id": "qsz9tkl-ruut"
      },
      "execution_count": null,
      "outputs": []
    }
  ]
}